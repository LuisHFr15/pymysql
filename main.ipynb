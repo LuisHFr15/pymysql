{
 "cells": [
  {
   "cell_type": "code",
   "execution_count": 1,
   "metadata": {},
   "outputs": [],
   "source": [
    "import pymysql\n",
    "import dotenv # type: ignore\n",
    "import os\n",
    "import pymysql.cursors\n",
    "\n",
    "dotenv.load_dotenv()\n",
    "\n",
    "TABLE_NAME = 'customers'\n",
    "\n",
    "\n",
    "connection = pymysql.connect(host=os.environ['MYSQL_HOST'],\n",
    "                             user=os.environ['MYSQL_USER'],\n",
    "                             password=os.environ['MYSQL_PASSWORD'],\n",
    "                             database=os.environ['MYSQL_DATABASE'],\n",
    "                             cursorclass=pymysql.cursors.DictCursor,)\n",
    "# it's good to select now the database for you don't need to select which\n",
    "# database and which table you are querying"
   ]
  },
  {
   "cell_type": "markdown",
   "metadata": {},
   "source": [
    "# INSERT"
   ]
  },
  {
   "cell_type": "code",
   "execution_count": 2,
   "metadata": {},
   "outputs": [],
   "source": [
    "with connection.cursor() as cursor:\n",
    "    cursor.execute(\n",
    "        f'CREATE TABLE IF NOT EXISTS {TABLE_NAME} ('\n",
    "        'id INT NOT NULL AUTO_INCREMENT, '\n",
    "        'name VARCHAR(50) NOT NULL, '\n",
    "        'age INT NOT NULL, '\n",
    "        'height REAL, '\n",
    "        'PRIMARY KEY (id)'\n",
    "        ') '\n",
    "    )\n",
    "        \n",
    "    connection.commit()\n",
    "    # import to commit every change in the database"
   ]
  },
  {
   "cell_type": "code",
   "execution_count": 3,
   "metadata": {},
   "outputs": [],
   "source": [
    "with connection.cursor() as cursor:\n",
    "    cursor.execute(\n",
    "        f'INSERT INTO {TABLE_NAME} '\n",
    "        '(name, age, height) VALUES (\"Luís\", 19, 182)'\n",
    "    )\n",
    "    cursor.execute(\n",
    "        f'INSERT INTO {TABLE_NAME} '\n",
    "        '(name, age) VALUES (\"Edward\", 20)'\n",
    "    )\n",
    "    connection.commit()"
   ]
  },
  {
   "cell_type": "markdown",
   "metadata": {},
   "source": [
    "TRUNCATE TABLE {TABLE_NAME}\n",
    "\n",
    "This code RESETS the table, use it carefully..."
   ]
  },
  {
   "cell_type": "code",
   "execution_count": 4,
   "metadata": {},
   "outputs": [],
   "source": [
    "# other form (more recommended) to insert values in the database\n",
    "\n",
    "sql = (f'INSERT INTO {TABLE_NAME} '\n",
    "       '(name, age, height) '\n",
    "       'VALUES '\n",
    "       '(%s, %s, %s)'\n",
    "       )\n",
    "\n",
    "with connection.cursor() as cursor:\n",
    "    cursor.execute(sql, ('Ian', 21, None))\n",
    "    connection.commit()\n"
   ]
  },
  {
   "cell_type": "code",
   "execution_count": 5,
   "metadata": {},
   "outputs": [],
   "source": [
    "with connection.cursor() as cursor:\n",
    "    data = ('John', 54, None)\n",
    "    cursor.execute(sql, data)\n",
    "    connection.commit()"
   ]
  },
  {
   "cell_type": "markdown",
   "metadata": {},
   "source": [
    "Every time we use a code line to execute a command using SQL codes, the security can be in danger.\n",
    "So, to avoid it, it's preferred to use parameterized SQL queries, like this last insert using the 'sql' and 'data' var"
   ]
  },
  {
   "cell_type": "code",
   "execution_count": 6,
   "metadata": {},
   "outputs": [],
   "source": [
    "sql2 = (f'INSERT INTO {TABLE_NAME} '\n",
    "       '(name, age, height) '\n",
    "       'VALUES '\n",
    "       '(%(name)s, %(age)s, %(height)s)'\n",
    "       )\n",
    "# this variables between the () should follow the DICTS keys, not necessarily the columns names\n",
    "\n",
    "with connection.cursor() as cursor:\n",
    "    data2 = {\n",
    "        'name': 'Olivia',\n",
    "        'age': 19,\n",
    "        'height': 155\n",
    "    }\n",
    "    \n",
    "    cursor.execute(sql2, data2)\n",
    "    connection.commit()"
   ]
  },
  {
   "cell_type": "code",
   "execution_count": 7,
   "metadata": {},
   "outputs": [],
   "source": [
    "with connection.cursor() as cursor:\n",
    "    data3 = ({'name': 'Lara', 'age': 18, 'height': 149},\n",
    "             {'name': 'Rose', 'age': 44, 'height': None},\n",
    "             {'name': 'Paul', 'age': 28, 'height': 193})\n",
    "    cursor.executemany(sql2, data3)\n",
    "    \n",
    "    connection.commit()"
   ]
  },
  {
   "cell_type": "markdown",
   "metadata": {},
   "source": [
    "# SELECT"
   ]
  },
  {
   "cell_type": "code",
   "execution_count": 8,
   "metadata": {},
   "outputs": [
    {
     "name": "stdout",
     "output_type": "stream",
     "text": [
      "{'id': 1, 'name': 'Luís', 'age': 19, 'height': 182.0}\n",
      "{'id': 2, 'name': 'Edward', 'age': 20, 'height': None}\n",
      "{'id': 3, 'name': 'Ian', 'age': 21, 'height': None}\n",
      "{'id': 4, 'name': 'John', 'age': 54, 'height': None}\n",
      "{'id': 5, 'name': 'Olivia', 'age': 19, 'height': 155.0}\n",
      "{'id': 6, 'name': 'Lara', 'age': 18, 'height': 149.0}\n",
      "{'id': 7, 'name': 'Rose', 'age': 44, 'height': None}\n",
      "{'id': 8, 'name': 'Paul', 'age': 28, 'height': 193.0}\n"
     ]
    }
   ],
   "source": [
    "with connection.cursor() as cursor:\n",
    "    query = f'SELECT * FROM {TABLE_NAME} '\n",
    "    \n",
    "    cursor.execute(query)\n",
    "    \n",
    "    for row in cursor.fetchall():\n",
    "        print(row)"
   ]
  },
  {
   "cell_type": "code",
   "execution_count": 9,
   "metadata": {},
   "outputs": [
    {
     "name": "stdout",
     "output_type": "stream",
     "text": [
      "{'id': 2, 'name': 'Edward', 'age': 20, 'height': None}\n",
      "{'id': 3, 'name': 'Ian', 'age': 21, 'height': None}\n",
      "{'id': 4, 'name': 'John', 'age': 54, 'height': None}\n",
      "{'id': 7, 'name': 'Rose', 'age': 44, 'height': None}\n"
     ]
    }
   ],
   "source": [
    "with connection.cursor() as cursor:\n",
    "    query = f'SELECT * FROM {TABLE_NAME} WHERE height IS NULL'\n",
    "    \n",
    "    cursor.execute(query)\n",
    "    # insecure form to do select\n",
    "    \n",
    "    for row in cursor.fetchall():\n",
    "        print(row)"
   ]
  },
  {
   "cell_type": "code",
   "execution_count": 10,
   "metadata": {},
   "outputs": [
    {
     "name": "stdout",
     "output_type": "stream",
     "text": [
      "{'id': 1, 'name': 'Luís', 'age': 19, 'height': 182.0}\n",
      "{'id': 2, 'name': 'Edward', 'age': 20, 'height': None}\n",
      "{'id': 3, 'name': 'Ian', 'age': 21, 'height': None}\n",
      "{'id': 4, 'name': 'John', 'age': 54, 'height': None}\n"
     ]
    }
   ],
   "source": [
    "with connection.cursor() as cursor:\n",
    "    column = 'id' # column hard-coded, prevents sql injection\n",
    "    id_received = '5 AND id = 5' # can be an input, there's an exempt of atemp to do sql injection\n",
    "    query = (f'SELECT * FROM {TABLE_NAME} '\n",
    "            #  f'WHERE {column} < {id_received}' -> insecure\n",
    "            f'WHERE {column} < %s ' # secure! Parameters prevents sql injection\n",
    "             )\n",
    "    \n",
    "    cursor.execute(query, (id_received,))\n",
    "    # insecure form to do select\n",
    "    \n",
    "    # the sql inject didn't worked!\n",
    "    for row in cursor.fetchall():\n",
    "        print(row)"
   ]
  },
  {
   "cell_type": "markdown",
   "metadata": {},
   "source": [
    "# DELETE"
   ]
  },
  {
   "cell_type": "code",
   "execution_count": 11,
   "metadata": {},
   "outputs": [
    {
     "name": "stdout",
     "output_type": "stream",
     "text": [
      "{'id': 1, 'name': 'Luís', 'age': 19, 'height': 182.0}\n",
      "{'id': 5, 'name': 'Olivia', 'age': 19, 'height': 155.0}\n",
      "{'id': 6, 'name': 'Lara', 'age': 18, 'height': 149.0}\n",
      "{'id': 8, 'name': 'Paul', 'age': 28, 'height': 193.0}\n"
     ]
    }
   ],
   "source": [
    "sql3 = (f'DELETE FROM {TABLE_NAME} '\n",
    "        f'WHERE height IS NULL ')\n",
    "\n",
    "with connection.cursor() as cursor:\n",
    "        cursor.execute(sql3)\n",
    "        connection.commit()\n",
    "             \n",
    "        cursor.execute(f'SELECT * FROM {TABLE_NAME}')\n",
    "        for row in cursor.fetchall():\n",
    "                print(row)\n",
    "                "
   ]
  },
  {
   "cell_type": "markdown",
   "metadata": {},
   "source": [
    "# UPDATE"
   ]
  },
  {
   "cell_type": "code",
   "execution_count": 12,
   "metadata": {},
   "outputs": [
    {
     "name": "stdout",
     "output_type": "stream",
     "text": [
      "{'id': 1, 'name': 'Luís', 'age': 19, 'height': 182.0}\n",
      "{'id': 5, 'name': 'Eleonor', 'age': 54, 'height': 155.0}\n",
      "{'id': 6, 'name': 'Lara', 'age': 18, 'height': 149.0}\n",
      "{'id': 8, 'name': 'Paul', 'age': 28, 'height': 193.0}\n"
     ]
    }
   ],
   "source": [
    "sql4 = (f'UPDATE {TABLE_NAME} '\n",
    "        'SET name = %s, age = %s '\n",
    "        'WHERE id = %s')\n",
    "\n",
    "with connection.cursor() as cursor:\n",
    "    data = (\"Eleonor\", 54, 5)\n",
    "    cursor.execute(sql4, data)\n",
    "    connection.commit()\n",
    "    \n",
    "    cursor.execute(f'SELECT * FROM {TABLE_NAME}')\n",
    "    for row in cursor.fetchall():\n",
    "        print(row)"
   ]
  },
  {
   "cell_type": "markdown",
   "metadata": {},
   "source": [
    "SSCursor and SSDictCursor -> unbuffered\n",
    "Very useful when working with queries which will return a lot of data, it stops in the middle of the query and asks if you want to continue, i.e they will fetch rows as needed, saving memory.\n",
    "\n",
    "Limitations -> it can't return the total number of rows and can't scroll backward"
   ]
  },
  {
   "cell_type": "code",
   "execution_count": 13,
   "metadata": {},
   "outputs": [],
   "source": [
    "connection.close()"
   ]
  },
  {
   "cell_type": "code",
   "execution_count": null,
   "metadata": {},
   "outputs": [],
   "source": []
  }
 ],
 "metadata": {
  "kernelspec": {
   "display_name": "venv",
   "language": "python",
   "name": "python3"
  },
  "language_info": {
   "codemirror_mode": {
    "name": "ipython",
    "version": 3
   },
   "file_extension": ".py",
   "mimetype": "text/x-python",
   "name": "python",
   "nbconvert_exporter": "python",
   "pygments_lexer": "ipython3",
   "version": "3.10.12"
  }
 },
 "nbformat": 4,
 "nbformat_minor": 2
}
